{
 "cells": [
  {
   "cell_type": "code",
   "execution_count": null,
   "id": "d6bc56a8",
   "metadata": {},
   "outputs": [],
   "source": [
    "import torch\n",
    "import torch.nn as nn\n",
    "import torch.optim as optim"
   ]
  },
  {
   "cell_type": "code",
   "execution_count": null,
   "id": "d6e92294",
   "metadata": {},
   "outputs": [],
   "source": [
    "device = torch.device(\"cuda\" if torch.cuda.is_available() else \"cpu\")"
   ]
  },
  {
   "cell_type": "code",
   "execution_count": null,
   "id": "50f51a69",
   "metadata": {},
   "outputs": [],
   "source": [
    "torch.version.cuda"
   ]
  },
  {
   "cell_type": "code",
   "execution_count": null,
   "id": "80ea0a40",
   "metadata": {},
   "outputs": [],
   "source": [
    "# GeForce Game Ready Driver 577.0\n",
    "# GTX 1660\n",
    "# Turing 7.5\n",
    "# CUDA SDK 10.0-10.2\n",
    "device"
   ]
  },
  {
   "cell_type": "code",
   "execution_count": 42,
   "id": "b9f29be9",
   "metadata": {},
   "outputs": [],
   "source": [
    "# Simple dataset (XOR problem as an example)\n",
    "X = torch.tensor([[5.],\n",
    "                  [10.],\n",
    "                  [3.],\n",
    "                  [40.]])\n",
    "y = torch.tensor([[1.], [0.], [0.], [1.]])\n",
    "\n",
    "norm = lambda tensor: (tensor - tensor.min()) / (tensor.max() - tensor.min())\n",
    "X_norm = norm(X)"
   ]
  },
  {
   "cell_type": "code",
   "execution_count": 43,
   "id": "79bb9cf0",
   "metadata": {},
   "outputs": [],
   "source": [
    "# Define a 2-hidden-layer network\n",
    "class TwoLayerNet(nn.Module):\n",
    "    def __init__(self):\n",
    "        super(TwoLayerNet, self).__init__()\n",
    "        self.fc1 = nn.Linear(1, 16)  # Input layer -> 1st hidden layer\n",
    "        self.fc2 = nn.Linear(16, 8)  # 1st hidden -> 2nd hidden\n",
    "        self.fc3 = nn.Linear(8, 1)   # 2nd hidden -> Output layer\n",
    "\n",
    "    def forward(self, x):\n",
    "        x = torch.relu(self.fc1(x))\n",
    "        x = torch.relu(self.fc2(x))\n",
    "        x = torch.sigmoid(self.fc3(x))\n",
    "        return x"
   ]
  },
  {
   "cell_type": "code",
   "execution_count": 44,
   "id": "5b5cd0b7",
   "metadata": {},
   "outputs": [
    {
     "data": {
      "text/plain": [
       "'2.7.1+cu128'"
      ]
     },
     "execution_count": 44,
     "metadata": {},
     "output_type": "execute_result"
    }
   ],
   "source": [
    "torch.__version__"
   ]
  },
  {
   "cell_type": "code",
   "execution_count": 45,
   "id": "ed26d69e",
   "metadata": {},
   "outputs": [],
   "source": [
    "model = TwoLayerNet()\n",
    "\n",
    "# Loss and optimizer\n",
    "criterion = nn.BCELoss()  # Binary Cross Entropy for [0,1] output\n",
    "optimizer = optim.Adam(model.parameters(), lr=0.01)"
   ]
  },
  {
   "cell_type": "code",
   "execution_count": 46,
   "id": "72d7f110",
   "metadata": {},
   "outputs": [
    {
     "name": "stdout",
     "output_type": "stream",
     "text": [
      "Epoch 0, Loss: 0.7007\n",
      "Epoch 100, Loss: 0.4714\n",
      "Epoch 200, Loss: 0.3768\n",
      "Epoch 300, Loss: 0.1933\n",
      "Epoch 400, Loss: 0.0407\n",
      "Epoch 500, Loss: 0.0163\n",
      "Epoch 600, Loss: 0.0092\n",
      "Epoch 700, Loss: 0.0061\n",
      "Epoch 800, Loss: 0.0043\n",
      "Epoch 900, Loss: 0.0033\n",
      "Epoch 1000, Loss: 0.0026\n",
      "Epoch 1100, Loss: 0.0021\n",
      "Epoch 1200, Loss: 0.0017\n",
      "Epoch 1300, Loss: 0.0014\n",
      "Epoch 1400, Loss: 0.0012\n",
      "Epoch 1500, Loss: 0.0010\n",
      "Epoch 1600, Loss: 0.0009\n",
      "Epoch 1700, Loss: 0.0008\n",
      "Epoch 1800, Loss: 0.0007\n",
      "Epoch 1900, Loss: 0.0006\n",
      "Epoch 2000, Loss: 0.0006\n",
      "Epoch 2100, Loss: 0.0005\n",
      "Epoch 2200, Loss: 0.0005\n",
      "Epoch 2300, Loss: 0.0004\n",
      "Epoch 2400, Loss: 0.0004\n",
      "Epoch 2500, Loss: 0.0003\n",
      "Epoch 2600, Loss: 0.0003\n",
      "Epoch 2700, Loss: 0.0003\n",
      "Epoch 2800, Loss: 0.0003\n",
      "Epoch 2900, Loss: 0.0002\n",
      "Epoch 3000, Loss: 0.0002\n",
      "Epoch 3100, Loss: 0.0002\n",
      "Epoch 3200, Loss: 0.0002\n",
      "Epoch 3300, Loss: 0.0002\n",
      "Epoch 3400, Loss: 0.0002\n",
      "Epoch 3500, Loss: 0.0002\n",
      "Epoch 3600, Loss: 0.0001\n",
      "Epoch 3700, Loss: 0.0001\n",
      "Epoch 3800, Loss: 0.0001\n",
      "Epoch 3900, Loss: 0.0001\n",
      "Epoch 4000, Loss: 0.0001\n",
      "Epoch 4100, Loss: 0.0001\n",
      "Epoch 4200, Loss: 0.0001\n",
      "Epoch 4300, Loss: 0.0001\n",
      "Epoch 4400, Loss: 0.0001\n",
      "Epoch 4500, Loss: 0.0001\n",
      "Epoch 4600, Loss: 0.0001\n",
      "Epoch 4700, Loss: 0.0001\n",
      "Epoch 4800, Loss: 0.0001\n",
      "Epoch 4900, Loss: 0.0001\n",
      "Epoch 5000, Loss: 0.0001\n",
      "Epoch 5100, Loss: 0.0001\n",
      "Epoch 5200, Loss: 0.0000\n",
      "Epoch 5300, Loss: 0.0000\n",
      "Epoch 5400, Loss: 0.0000\n",
      "Epoch 5500, Loss: 0.0000\n",
      "Epoch 5600, Loss: 0.0000\n",
      "Epoch 5700, Loss: 0.0000\n",
      "Epoch 5800, Loss: 0.0000\n",
      "Epoch 5900, Loss: 0.0000\n",
      "Epoch 6000, Loss: 0.0000\n",
      "Epoch 6100, Loss: 0.0000\n",
      "Epoch 6200, Loss: 0.0000\n",
      "Epoch 6300, Loss: 0.0000\n",
      "Epoch 6400, Loss: 0.0000\n",
      "Epoch 6500, Loss: 0.0000\n",
      "Epoch 6600, Loss: 0.0000\n",
      "Epoch 6700, Loss: 0.0000\n",
      "Epoch 6800, Loss: 0.0000\n",
      "Epoch 6900, Loss: 0.0000\n",
      "Epoch 7000, Loss: 0.0000\n",
      "Epoch 7100, Loss: 0.0000\n",
      "Epoch 7200, Loss: 0.0000\n",
      "Epoch 7300, Loss: 0.0000\n",
      "Epoch 7400, Loss: 0.0000\n",
      "Epoch 7500, Loss: 0.0000\n",
      "Epoch 7600, Loss: 0.0000\n",
      "Epoch 7700, Loss: 0.0000\n",
      "Epoch 7800, Loss: 0.0000\n",
      "Epoch 7900, Loss: 0.0000\n",
      "Epoch 8000, Loss: 0.0000\n",
      "Epoch 8100, Loss: 0.0000\n",
      "Epoch 8200, Loss: 0.0000\n",
      "Epoch 8300, Loss: 0.0000\n",
      "Epoch 8400, Loss: 0.0000\n",
      "Epoch 8500, Loss: 0.0000\n",
      "Epoch 8600, Loss: 0.0000\n",
      "Epoch 8700, Loss: 0.0000\n",
      "Epoch 8800, Loss: 0.0000\n",
      "Epoch 8900, Loss: 0.0000\n",
      "Epoch 9000, Loss: 0.0000\n",
      "Epoch 9100, Loss: 0.0000\n",
      "Epoch 9200, Loss: 0.0000\n",
      "Epoch 9300, Loss: 0.0000\n",
      "Epoch 9400, Loss: 0.0000\n",
      "Epoch 9500, Loss: 0.0000\n",
      "Epoch 9600, Loss: 0.0000\n",
      "Epoch 9700, Loss: 0.0000\n",
      "Epoch 9800, Loss: 0.0000\n",
      "Epoch 9900, Loss: 0.0000\n"
     ]
    }
   ],
   "source": [
    "# Training loop\n",
    "for epoch in range(10000):\n",
    "    optimizer.zero_grad()\n",
    "    outputs = model(X_norm)\n",
    "    loss = criterion(outputs, y)\n",
    "    loss.backward()\n",
    "    optimizer.step()\n",
    "    if epoch % 100 == 0:\n",
    "        print(f\"Epoch {epoch}, Loss: {loss.item():.4f}\")"
   ]
  },
  {
   "cell_type": "code",
   "execution_count": 64,
   "id": "3f26f270",
   "metadata": {},
   "outputs": [
    {
     "name": "stdout",
     "output_type": "stream",
     "text": [
      "Predictions: tensor([[1.],\n",
      "        [0.],\n",
      "        [0.],\n",
      "        [1.],\n",
      "        [0.],\n",
      "        [1.],\n",
      "        [0.],\n",
      "        [1.],\n",
      "        [1.],\n",
      "        [1.],\n",
      "        [1.],\n",
      "        [1.],\n",
      "        [1.],\n",
      "        [1.],\n",
      "        [1.],\n",
      "        [0.],\n",
      "        [0.],\n",
      "        [1.],\n",
      "        [1.],\n",
      "        [1.]])\n",
      "tensor([[True],\n",
      "        [True],\n",
      "        [True],\n",
      "        [True],\n",
      "        [True],\n",
      "        [True],\n",
      "        [True],\n",
      "        [True],\n",
      "        [True],\n",
      "        [True],\n",
      "        [True],\n",
      "        [True],\n",
      "        [True],\n",
      "        [True],\n",
      "        [True],\n",
      "        [True],\n",
      "        [True],\n",
      "        [True],\n",
      "        [True],\n",
      "        [True]])\n"
     ]
    }
   ],
   "source": [
    "X_test = torch.randint(low=0, high=21, size=(20, 1))\n",
    "X_test_norm = norm(X_test)\n",
    "\n",
    "\n",
    "with torch.no_grad():\n",
    "    preds = model(X_test_norm)\n",
    "    print(\"Predictions:\", preds.round())\n",
    "    print((X_test >= 10).int() == preds.round() )"
   ]
  }
 ],
 "metadata": {
  "kernelspec": {
   "display_name": "rumour-milled-py3.12",
   "language": "python",
   "name": "python3"
  },
  "language_info": {
   "codemirror_mode": {
    "name": "ipython",
    "version": 3
   },
   "file_extension": ".py",
   "mimetype": "text/x-python",
   "name": "python",
   "nbconvert_exporter": "python",
   "pygments_lexer": "ipython3",
   "version": "3.12.10"
  }
 },
 "nbformat": 4,
 "nbformat_minor": 5
}
