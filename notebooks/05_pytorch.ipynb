{
 "cells": [
  {
   "cell_type": "code",
   "execution_count": 1,
   "id": "d6bc56a8",
   "metadata": {},
   "outputs": [
    {
     "name": "stderr",
     "output_type": "stream",
     "text": [
      "c:\\Users\\nedst\\Documents\\My Files\\Projects\\rumour-milled\\.venv\\Lib\\site-packages\\tqdm\\auto.py:21: TqdmWarning: IProgress not found. Please update jupyter and ipywidgets. See https://ipywidgets.readthedocs.io/en/stable/user_install.html\n",
      "  from .autonotebook import tqdm as notebook_tqdm\n"
     ]
    }
   ],
   "source": [
    "import torch\n",
    "import torch.nn as nn\n",
    "import torch.optim as optim\n",
    "from rumour_milled.load import load_headlines\n",
    "from rumour_milled.preprocessing import tokenise_headlines, vectorise_tokens"
   ]
  },
  {
   "cell_type": "code",
   "execution_count": 2,
   "id": "d6e92294",
   "metadata": {},
   "outputs": [
    {
     "data": {
      "text/plain": [
       "device(type='cuda')"
      ]
     },
     "execution_count": 2,
     "metadata": {},
     "output_type": "execute_result"
    }
   ],
   "source": [
    "# GeForce Game Ready Driver 577.0\n",
    "# GTX 1660\n",
    "# Turing 7.5\n",
    "# CUDA SDK 10.0-10.2\n",
    "device = torch.device(\"cuda\" if torch.cuda.is_available() else \"cpu\")\n",
    "device"
   ]
  },
  {
   "cell_type": "code",
   "execution_count": 3,
   "id": "d0fe0995",
   "metadata": {},
   "outputs": [],
   "source": [
    "headlines, labels = load_headlines()"
   ]
  },
  {
   "cell_type": "code",
   "execution_count": 4,
   "id": "d9f99323",
   "metadata": {},
   "outputs": [
    {
     "name": "stdout",
     "output_type": "stream",
     "text": [
      "Vectorising 11/100\n",
      "Vectorising 22/100\n",
      "Vectorising 33/100\n",
      "Vectorising 44/100\n",
      "Vectorising 55/100\n",
      "Vectorising 66/100\n",
      "Vectorising 77/100\n",
      "Vectorising 88/100\n",
      "Vectorising 99/100\n",
      "Vectorising 100/100\n"
     ]
    }
   ],
   "source": [
    "sample = headlines[:100]\n",
    "tokens = tokenise_headlines(sample)\n",
    "vector = vectorise_tokens(tokens, batch_size=11)"
   ]
  },
  {
   "cell_type": "code",
   "execution_count": null,
   "id": "484e100a",
   "metadata": {},
   "outputs": [],
   "source": [
    "tokens = tokeniser(\n",
    "    headlines, \n",
    "    padding=True,\n",
    "    truncation=True,\n",
    "    return_tensors=\"pt\"\n",
    ")\n",
    "\n",
    "with torch.no_grad():\n",
    "    outputs = vectoriser(**{k: v.to(device) for k, v in tokens.items()})"
   ]
  },
  {
   "cell_type": "code",
   "execution_count": null,
   "id": "e4bfc660",
   "metadata": {},
   "outputs": [],
   "source": [
    "def tokenise_and_vectorise(headline):\n",
    "    tokens = tokeniser(\n",
    "        headline, \n",
    "        padding=True,\n",
    "        truncation=True,\n",
    "        return_tensors=\"pt\"\n",
    "    )\n",
    "    with torch.no_grad():\n",
    "        outputs = vectoriser(**tokens)\n",
    "    return outputs.last_hidden_state[:, 0, :]"
   ]
  },
  {
   "cell_type": "code",
   "execution_count": null,
   "id": "1d2994a3",
   "metadata": {},
   "outputs": [],
   "source": [
    "X = outputs.last_hidden_state[:, 0, :]\n",
    "y = torch.tensor(labels[:100], dtype=torch.float).unsqueeze(1)"
   ]
  },
  {
   "cell_type": "code",
   "execution_count": null,
   "id": "ff061563",
   "metadata": {},
   "outputs": [],
   "source": [
    "from torch.utils.data import TensorDataset, DataLoader\n",
    "\n",
    "dataset = TensorDataset(X, y)\n",
    "data_loader = DataLoader(dataset, batch_size=10, shuffle=True)"
   ]
  },
  {
   "cell_type": "code",
   "execution_count": null,
   "id": "ed26d69e",
   "metadata": {},
   "outputs": [],
   "source": [
    "from rumour_milled.models import SimpleHeadlineClassifier\n",
    "model = SimpleHeadlineClassifier(768, 256, 1).to(device)\n",
    "criterion = nn.BCEWithLogitsLoss()  # Binary Cross Entropy for [0,1] output\n",
    "optimizer = optim.Adam(model.parameters(), lr=0.01)"
   ]
  },
  {
   "cell_type": "code",
   "execution_count": null,
   "id": "72d7f110",
   "metadata": {},
   "outputs": [],
   "source": [
    "# Training loop\n",
    "for epoch in range(1000):\n",
    "    total_loss = 0\n",
    "    for batch_X, batch_y in data_loader:\n",
    "        optimizer.zero_grad()\n",
    "        logits = model(batch_X.to(device))\n",
    "        loss = criterion(logits, batch_y.to(device))\n",
    "        loss.backward()\n",
    "        optimizer.step()\n",
    "        total_loss += loss.item()\n",
    "    print(f\"Epoch {epoch+1}, Loss: {total_loss:.4f}\")"
   ]
  },
  {
   "cell_type": "code",
   "execution_count": null,
   "id": "3f26f270",
   "metadata": {},
   "outputs": [],
   "source": [
    "with torch.no_grad():\n",
    "    preds = model(tokenise_and_vectorise(\"Earth shattering headline\"))\n",
    "    print(\"Predictions:\", preds.round())"
   ]
  }
 ],
 "metadata": {
  "kernelspec": {
   "display_name": "rumour-milled-py3.12",
   "language": "python",
   "name": "python3"
  },
  "language_info": {
   "codemirror_mode": {
    "name": "ipython",
    "version": 3
   },
   "file_extension": ".py",
   "mimetype": "text/x-python",
   "name": "python",
   "nbconvert_exporter": "python",
   "pygments_lexer": "ipython3",
   "version": "3.12.10"
  }
 },
 "nbformat": 4,
 "nbformat_minor": 5
}
