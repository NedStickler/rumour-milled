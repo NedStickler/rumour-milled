{
 "cells": [
  {
   "cell_type": "code",
   "execution_count": 1,
   "id": "d6bc56a8",
   "metadata": {},
   "outputs": [
    {
     "name": "stderr",
     "output_type": "stream",
     "text": [
      "c:\\Users\\nedst\\Documents\\My Files\\Projects\\rumour-milled\\.venv\\Lib\\site-packages\\tqdm\\auto.py:21: TqdmWarning: IProgress not found. Please update jupyter and ipywidgets. See https://ipywidgets.readthedocs.io/en/stable/user_install.html\n",
      "  from .autonotebook import tqdm as notebook_tqdm\n"
     ]
    }
   ],
   "source": [
    "from rumour_milled.ml.models.gan import HeadlinesGenerator, HeadlinesDiscriminator\n",
    "from rumour_milled.ml.load import load_headlines\n",
    "from rumour_milled.ml.preprocess import tokenise_and_vectorise\n",
    "import torch"
   ]
  },
  {
   "cell_type": "code",
   "execution_count": null,
   "id": "d6e92294",
   "metadata": {},
   "outputs": [],
   "source": [
    "# GeForce Game Ready Driver 577.0\n",
    "# GTX 1660\n",
    "# Turing 7.5\n",
    "# CUDA SDK 10.0-10.2"
   ]
  },
  {
   "cell_type": "code",
   "execution_count": 2,
   "id": "0101f1a0",
   "metadata": {},
   "outputs": [],
   "source": [
    "headlines, labels = load_headlines()\n",
    "real_headlines = [\n",
    "    headline\n",
    "    for headline, label in zip(headlines, labels)\n",
    "    if label == 1\n",
    "]\n",
    "real_headlines_subset = real_headlines[:512]"
   ]
  },
  {
   "cell_type": "code",
   "execution_count": 7,
   "id": "ff08601c",
   "metadata": {},
   "outputs": [
    {
     "name": "stdout",
     "output_type": "stream",
     "text": [
      "Vectorising 128/512\n",
      "Vectorising 256/512\n",
      "Vectorising 384/512\n",
      "Vectorising 512/512\n"
     ]
    }
   ],
   "source": [
    "X = tokenise_and_vectorise(real_headlines_subset, batch_size=128)"
   ]
  },
  {
   "cell_type": "code",
   "execution_count": null,
   "id": "02b2fd18",
   "metadata": {},
   "outputs": [],
   "source": []
  },
  {
   "cell_type": "code",
   "execution_count": null,
   "id": "ff061563",
   "metadata": {},
   "outputs": [],
   "source": [
    "from torch.utils.data import TensorDataset, DataLoader\n",
    "from rumour_milled.models import SimpleHeadlineClassifier\n",
    "\n",
    "headlines, labels = load_headlines()\n",
    "X = tokenise_and_vectorise(headlines, batch_size=512)\n",
    "y = torch.tensor(labels, dtype=torch.float).unsqueeze(1)\n",
    "dataset = TensorDataset(X, y)\n",
    "data_loader = DataLoader(dataset, batch_size=10, shuffle=True)\n",
    "model = SimpleHeadlineClassifier(768, 256, 1).to(device)\n",
    "criterion = nn.BCEWithLogitsLoss()  # Binary Cross Entropy for [0,1] output\n",
    "optimizer = optim.Adam(model.parameters(), lr=0.01)"
   ]
  },
  {
   "cell_type": "code",
   "execution_count": null,
   "id": "72d7f110",
   "metadata": {},
   "outputs": [],
   "source": [
    "# Training loop\n",
    "for epoch in range(1000):\n",
    "    total_loss = 0\n",
    "    for batch_X, batch_y in data_loader:\n",
    "        optimizer.zero_grad()\n",
    "        logits = model(batch_X.to(device))\n",
    "        loss = criterion(logits, batch_y.to(device))\n",
    "        loss.backward()\n",
    "        optimizer.step()\n",
    "        total_loss += loss.item()\n",
    "    print(f\"Epoch {epoch+1}, Loss: {total_loss:.4f}\")"
   ]
  },
  {
   "cell_type": "code",
   "execution_count": null,
   "id": "3f26f270",
   "metadata": {},
   "outputs": [],
   "source": [
    "with torch.no_grad():\n",
    "    preds = model(tokenise_and_vectorise(\"Earth shattering headline\"))\n",
    "    print(\"Predictions:\", preds.round())"
   ]
  }
 ],
 "metadata": {
  "kernelspec": {
   "display_name": "rumour-milled-py3.12",
   "language": "python",
   "name": "python3"
  },
  "language_info": {
   "codemirror_mode": {
    "name": "ipython",
    "version": 3
   },
   "file_extension": ".py",
   "mimetype": "text/x-python",
   "name": "python",
   "nbconvert_exporter": "python",
   "pygments_lexer": "ipython3",
   "version": "3.12.10"
  }
 },
 "nbformat": 4,
 "nbformat_minor": 5
}
