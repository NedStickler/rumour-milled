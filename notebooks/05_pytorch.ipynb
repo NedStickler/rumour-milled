{
 "cells": [
  {
   "cell_type": "code",
   "execution_count": 1,
   "id": "d6bc56a8",
   "metadata": {},
   "outputs": [
    {
     "name": "stderr",
     "output_type": "stream",
     "text": [
      "c:\\Users\\nedst\\Documents\\My Files\\Projects\\rumour-milled\\.venv\\Lib\\site-packages\\tqdm\\auto.py:21: TqdmWarning: IProgress not found. Please update jupyter and ipywidgets. See https://ipywidgets.readthedocs.io/en/stable/user_install.html\n",
      "  from .autonotebook import tqdm as notebook_tqdm\n"
     ]
    }
   ],
   "source": [
    "from rumour_milled.ml.load import load_headlines\n",
    "from rumour_milled.ml.preprocess import tokenise_and_vectorise\n",
    "from rumour_milled.ml.models.simple import SimpleHeadlineClassifier\n",
    "from rumour_milled.ml.train import Trainer\n",
    "from torch.utils.data import TensorDataset, DataLoader\n",
    "import torch\n",
    "import torch.nn as nn\n",
    "import torch.optim as optim"
   ]
  },
  {
   "cell_type": "code",
   "execution_count": 2,
   "id": "d6e92294",
   "metadata": {},
   "outputs": [],
   "source": [
    "# GeForce Game Ready Driver 577.0\n",
    "# GTX 1660\n",
    "# Turing 7.5\n",
    "# CUDA SDK 10.0-10.2\n",
    "device = torch.device(\"cuda\" if torch.cuda.is_available() else \"cpu\")"
   ]
  },
  {
   "cell_type": "code",
   "execution_count": 5,
   "id": "2cf61e6b",
   "metadata": {},
   "outputs": [
    {
     "name": "stdout",
     "output_type": "stream",
     "text": [
      "Vectorising 128/512\n",
      "Vectorising 256/512\n",
      "Vectorising 384/512\n",
      "Vectorising 512/512\n",
      "Vectorising 128/128\n"
     ]
    }
   ],
   "source": [
    "headlines, labels = load_headlines()\n",
    "headlines = headlines[:640]\n",
    "labels = labels[:640]\n",
    "X_train = tokenise_and_vectorise(headlines[:512], batch_size=128)\n",
    "y_train = torch.tensor(labels[:512], dtype=torch.float).unsqueeze(1)\n",
    "X_test = tokenise_and_vectorise(headlines[512:], batch_size=128)\n",
    "y_test = torch.tensor(labels[512:], dtype=torch.float).unsqueeze(1)\n",
    "\n",
    "train_dataset = TensorDataset(X_train, y_train)\n",
    "train_loader = DataLoader(train_dataset, batch_size=32, shuffle=True)\n",
    "\n",
    "test_dataset = TensorDataset(X_test, y_test)\n",
    "test_loader = DataLoader(test_dataset, batch_size=32, shuffle=True)"
   ]
  },
  {
   "cell_type": "code",
   "execution_count": null,
   "id": "8b69be57",
   "metadata": {},
   "outputs": [],
   "source": [
    "model = SimpleHeadlineClassifier(768, 256, 1)\n",
    "loss_fn = nn.BCEWithLogitsLoss()  # Binary Cross Entropy for [0,1] output\n",
    "optimiser = optim.Adam(model.parameters(), lr=0.001)\n",
    "trainer = Trainer(model, loss_fn, optimiser, device)"
   ]
  },
  {
   "cell_type": "code",
   "execution_count": 8,
   "id": "e1f3c8a4",
   "metadata": {},
   "outputs": [
    {
     "name": "stdout",
     "output_type": "stream",
     "text": [
      "Epoch 0 | train_loss: 0.717322550714016 | val_loss: 0.6931650638580322\n",
      "Epoch 1 | train_loss: 0.6931512132287025 | val_loss: 0.6931476444005966\n",
      "Epoch 2 | train_loss: 0.6931473091244698 | val_loss: 0.6931473612785339\n",
      "Epoch 3 | train_loss: 0.6931472606956959 | val_loss: 0.6931473165750504\n",
      "Epoch 4 | train_loss: 0.6931472383439541 | val_loss: 0.6931473016738892\n",
      "Epoch 5 | train_loss: 0.6931472346186638 | val_loss: 0.6931473314762115\n",
      "Epoch 6 | train_loss: 0.6931472383439541 | val_loss: 0.6931473314762115\n",
      "Epoch 7 | train_loss: 0.6931472308933735 | val_loss: 0.6931473016738892\n",
      "Epoch 8 | train_loss: 0.6931472346186638 | val_loss: 0.693147286772728\n",
      "Epoch 9 | train_loss: 0.6931472308933735 | val_loss: 0.6931473016738892\n",
      "Epoch 10 | train_loss: 0.6931472383439541 | val_loss: 0.6931473016738892\n",
      "Epoch 11 | train_loss: 0.6931472234427929 | val_loss: 0.6931473314762115\n",
      "Epoch 12 | train_loss: 0.6931472346186638 | val_loss: 0.6931473165750504\n",
      "Epoch 13 | train_loss: 0.6931472383439541 | val_loss: 0.6931473165750504\n",
      "Epoch 14 | train_loss: 0.6931472271680832 | val_loss: 0.6931473016738892\n",
      "Epoch 15 | train_loss: 0.6931472308933735 | val_loss: 0.6931473016738892\n",
      "Epoch 16 | train_loss: 0.6931472234427929 | val_loss: 0.693147286772728\n",
      "Epoch 17 | train_loss: 0.6931472271680832 | val_loss: 0.693147286772728\n",
      "Epoch 18 | train_loss: 0.6931472271680832 | val_loss: 0.6931472718715668\n",
      "Epoch 19 | train_loss: 0.6931472271680832 | val_loss: 0.6931473165750504\n",
      "Epoch 20 | train_loss: 0.6931472308933735 | val_loss: 0.693147286772728\n",
      "Epoch 21 | train_loss: 0.6931472234427929 | val_loss: 0.693147286772728\n",
      "Epoch 22 | train_loss: 0.6931472234427929 | val_loss: 0.6931472718715668\n",
      "Epoch 23 | train_loss: 0.6931472159922123 | val_loss: 0.693147286772728\n",
      "Epoch 24 | train_loss: 0.6931472085416317 | val_loss: 0.6931472718715668\n",
      "Epoch 25 | train_loss: 0.693147212266922 | val_loss: 0.6931472718715668\n",
      "Epoch 26 | train_loss: 0.6931472085416317 | val_loss: 0.6931472569704056\n",
      "Epoch 27 | train_loss: 0.6931472048163414 | val_loss: 0.6931472569704056\n",
      "Epoch 28 | train_loss: 0.6931472085416317 | val_loss: 0.6931472420692444\n",
      "Epoch 29 | train_loss: 0.6931471973657608 | val_loss: 0.6931472420692444\n",
      "Epoch 30 | train_loss: 0.6931471973657608 | val_loss: 0.6931472420692444\n",
      "Epoch 31 | train_loss: 0.6931471973657608 | val_loss: 0.6931472420692444\n",
      "Epoch 32 | train_loss: 0.6931471936404705 | val_loss: 0.6931472271680832\n",
      "Epoch 33 | train_loss: 0.6931471899151802 | val_loss: 0.6931472271680832\n",
      "Epoch 34 | train_loss: 0.6931471936404705 | val_loss: 0.693147212266922\n",
      "Epoch 35 | train_loss: 0.6931471861898899 | val_loss: 0.6931472271680832\n",
      "Epoch 36 | train_loss: 0.6931471861898899 | val_loss: 0.693147212266922\n",
      "Epoch 37 | train_loss: 0.6931471899151802 | val_loss: 0.693147212266922\n",
      "Epoch 38 | train_loss: 0.6931471861898899 | val_loss: 0.693147212266922\n",
      "Epoch 39 | train_loss: 0.6931471824645996 | val_loss: 0.6931471973657608\n",
      "Epoch 40 | train_loss: 0.6931471787393093 | val_loss: 0.693147212266922\n",
      "Epoch 41 | train_loss: 0.6931471824645996 | val_loss: 0.6931471973657608\n",
      "Epoch 42 | train_loss: 0.6931471787393093 | val_loss: 0.693147212266922\n",
      "Epoch 43 | train_loss: 0.6931471824645996 | val_loss: 0.6931471824645996\n",
      "Epoch 44 | train_loss: 0.6931471824645996 | val_loss: 0.6931471973657608\n",
      "Epoch 45 | train_loss: 0.6931471824645996 | val_loss: 0.693147212266922\n",
      "Epoch 46 | train_loss: 0.6931471824645996 | val_loss: 0.6931471973657608\n",
      "Epoch 47 | train_loss: 0.6931471824645996 | val_loss: 0.6931471824645996\n",
      "Epoch 48 | train_loss: 0.6931471824645996 | val_loss: 0.6931471973657608\n",
      "Epoch 49 | train_loss: 0.6931471824645996 | val_loss: 0.6931471973657608\n",
      "Epoch 50 | train_loss: 0.6931471824645996 | val_loss: 0.6931471973657608\n",
      "Epoch 51 | train_loss: 0.6931471824645996 | val_loss: 0.6931471973657608\n",
      "Epoch 52 | train_loss: 0.6931471824645996 | val_loss: 0.6931471973657608\n",
      "Epoch 53 | train_loss: 0.6931471824645996 | val_loss: 0.6931471824645996\n",
      "Epoch 54 | train_loss: 0.6931471824645996 | val_loss: 0.6931471824645996\n",
      "Epoch 55 | train_loss: 0.6931471824645996 | val_loss: 0.6931471824645996\n",
      "Epoch 56 | train_loss: 0.6931471824645996 | val_loss: 0.6931471973657608\n",
      "Epoch 57 | train_loss: 0.6931471787393093 | val_loss: 0.6931471973657608\n",
      "Epoch 58 | train_loss: 0.6931471787393093 | val_loss: 0.6931471824645996\n",
      "Epoch 59 | train_loss: 0.6931471824645996 | val_loss: 0.6931471973657608\n",
      "Epoch 60 | train_loss: 0.6931471824645996 | val_loss: 0.6931471973657608\n",
      "Epoch 61 | train_loss: 0.6931471824645996 | val_loss: 0.6931471973657608\n",
      "Epoch 62 | train_loss: 0.6931471824645996 | val_loss: 0.6931471973657608\n",
      "Epoch 63 | train_loss: 0.6931471824645996 | val_loss: 0.6931471824645996\n",
      "Epoch 64 | train_loss: 0.6931471824645996 | val_loss: 0.6931471824645996\n",
      "Epoch 65 | train_loss: 0.6931471824645996 | val_loss: 0.6931471973657608\n",
      "Epoch 66 | train_loss: 0.6931471824645996 | val_loss: 0.6931471824645996\n",
      "Epoch 67 | train_loss: 0.693147175014019 | val_loss: 0.6931471824645996\n",
      "Epoch 68 | train_loss: 0.6931471787393093 | val_loss: 0.6931471973657608\n",
      "Epoch 69 | train_loss: 0.693147175014019 | val_loss: 0.6931471824645996\n",
      "Epoch 70 | train_loss: 0.693147175014019 | val_loss: 0.6931471675634384\n",
      "Epoch 71 | train_loss: 0.693147175014019 | val_loss: 0.6931471973657608\n",
      "Epoch 72 | train_loss: 0.693147175014019 | val_loss: 0.6931471824645996\n",
      "Epoch 73 | train_loss: 0.693147175014019 | val_loss: 0.6931471675634384\n",
      "Epoch 74 | train_loss: 0.693147175014019 | val_loss: 0.6931471973657608\n",
      "Epoch 75 | train_loss: 0.693147175014019 | val_loss: 0.6931471824645996\n",
      "Epoch 76 | train_loss: 0.693147175014019 | val_loss: 0.6931471824645996\n",
      "Epoch 77 | train_loss: 0.693147175014019 | val_loss: 0.6931471675634384\n",
      "Epoch 78 | train_loss: 0.6931471712887287 | val_loss: 0.6931471824645996\n",
      "Epoch 79 | train_loss: 0.6931471712887287 | val_loss: 0.6931471526622772\n",
      "Epoch 80 | train_loss: 0.6931471675634384 | val_loss: 0.6931471824645996\n",
      "Epoch 81 | train_loss: 0.6931471675634384 | val_loss: 0.6931471824645996\n",
      "Epoch 82 | train_loss: 0.6931471675634384 | val_loss: 0.6931471824645996\n",
      "Epoch 83 | train_loss: 0.6931471712887287 | val_loss: 0.6931471675634384\n",
      "Epoch 84 | train_loss: 0.6931471675634384 | val_loss: 0.6931471675634384\n",
      "Epoch 85 | train_loss: 0.6931471675634384 | val_loss: 0.6931471824645996\n",
      "Epoch 86 | train_loss: 0.6931471675634384 | val_loss: 0.6931471675634384\n",
      "Epoch 87 | train_loss: 0.6931471675634384 | val_loss: 0.6931471824645996\n",
      "Epoch 88 | train_loss: 0.6931471675634384 | val_loss: 0.6931471675634384\n",
      "Epoch 89 | train_loss: 0.6931471675634384 | val_loss: 0.6931471675634384\n",
      "Epoch 90 | train_loss: 0.6931471675634384 | val_loss: 0.6931471824645996\n",
      "Epoch 91 | train_loss: 0.6931471675634384 | val_loss: 0.6931471675634384\n",
      "Epoch 92 | train_loss: 0.6931471675634384 | val_loss: 0.6931471675634384\n",
      "Epoch 93 | train_loss: 0.6931471675634384 | val_loss: 0.6931471824645996\n",
      "Epoch 94 | train_loss: 0.6931471675634384 | val_loss: 0.6931471824645996\n",
      "Epoch 95 | train_loss: 0.6931471675634384 | val_loss: 0.6931471824645996\n",
      "Epoch 96 | train_loss: 0.6931471675634384 | val_loss: 0.6931471675634384\n",
      "Epoch 97 | train_loss: 0.6931471675634384 | val_loss: 0.6931471824645996\n",
      "Epoch 98 | train_loss: 0.6931471675634384 | val_loss: 0.6931471675634384\n",
      "Epoch 99 | train_loss: 0.6931471675634384 | val_loss: 0.6931471675634384\n"
     ]
    }
   ],
   "source": [
    "trainer.train(\n",
    "    train_loader,\n",
    "    test_loader,\n",
    "    100\n",
    ")"
   ]
  },
  {
   "cell_type": "code",
   "execution_count": 33,
   "id": "5820a171",
   "metadata": {},
   "outputs": [
    {
     "name": "stdout",
     "output_type": "stream",
     "text": [
      "Vectorising 1/1\n",
      "tensor([[1.7371e-13]], device='cuda:0')\n"
     ]
    }
   ],
   "source": [
    "test_X = tokenise_and_vectorise([\"Someone Unveils Self-Driving Bullet Train Connecting Beijing to London\"]).to(device)\n",
    "with torch.no_grad():\n",
    "    print(trainer.model(test_X))"
   ]
  }
 ],
 "metadata": {
  "kernelspec": {
   "display_name": "rumour-milled-py3.12",
   "language": "python",
   "name": "python3"
  },
  "language_info": {
   "codemirror_mode": {
    "name": "ipython",
    "version": 3
   },
   "file_extension": ".py",
   "mimetype": "text/x-python",
   "name": "python",
   "nbconvert_exporter": "python",
   "pygments_lexer": "ipython3",
   "version": "3.12.10"
  }
 },
 "nbformat": 4,
 "nbformat_minor": 5
}
