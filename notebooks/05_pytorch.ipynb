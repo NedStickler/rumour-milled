{
 "cells": [
  {
   "cell_type": "code",
   "execution_count": 1,
   "id": "d6bc56a8",
   "metadata": {},
   "outputs": [
    {
     "name": "stderr",
     "output_type": "stream",
     "text": [
      "c:\\Users\\nedst\\Documents\\My Files\\Projects\\rumour-milled\\.venv\\Lib\\site-packages\\tqdm\\auto.py:21: TqdmWarning: IProgress not found. Please update jupyter and ipywidgets. See https://ipywidgets.readthedocs.io/en/stable/user_install.html\n",
      "  from .autonotebook import tqdm as notebook_tqdm\n"
     ]
    }
   ],
   "source": [
    "from rumour_milled.ml.load import load_headlines\n",
    "from rumour_milled.ml.preprocess import tokenise_and_vectorise\n",
    "from rumour_milled.ml.models.simple import SimpleHeadlineClassifier\n",
    "from rumour_milled.ml.train import Trainer\n",
    "from torch.utils.data import TensorDataset, DataLoader\n",
    "import torch\n",
    "import torch.nn as nn\n",
    "import torch.optim as optim"
   ]
  },
  {
   "cell_type": "code",
   "execution_count": 2,
   "id": "d6e92294",
   "metadata": {},
   "outputs": [],
   "source": [
    "# GeForce Game Ready Driver 577.0\n",
    "# GTX 1660\n",
    "# Turing 7.5\n",
    "# CUDA SDK 10.0-10.2\n",
    "device = torch.device(\"cuda\" if torch.cuda.is_available() else \"cpu\")"
   ]
  },
  {
   "cell_type": "code",
   "execution_count": 3,
   "id": "2cf61e6b",
   "metadata": {},
   "outputs": [
    {
     "name": "stdout",
     "output_type": "stream",
     "text": [
      "Vectorising 128/512\n",
      "Vectorising 256/512\n",
      "Vectorising 384/512\n",
      "Vectorising 512/512\n",
      "Vectorising 128/128\n"
     ]
    }
   ],
   "source": [
    "headlines, labels = load_headlines()\n",
    "headlines = headlines[:640]\n",
    "labels = labels[:640]\n",
    "X_train = tokenise_and_vectorise(headlines[:512], batch_size=128)\n",
    "y_train = torch.tensor(labels[:512], dtype=torch.float).unsqueeze(1)\n",
    "X_test = tokenise_and_vectorise(headlines[512:], batch_size=128)\n",
    "y_test = torch.tensor(labels[512:], dtype=torch.float).unsqueeze(1)\n",
    "\n",
    "train_dataset = TensorDataset(X_train, y_train)\n",
    "train_loader = DataLoader(train_dataset, batch_size=32, shuffle=True)\n",
    "\n",
    "test_dataset = TensorDataset(X_test, y_test)\n",
    "test_loader = DataLoader(test_dataset, batch_size=32, shuffle=True)"
   ]
  },
  {
   "cell_type": "code",
   "execution_count": 7,
   "id": "8b69be57",
   "metadata": {},
   "outputs": [],
   "source": [
    "model = SimpleHeadlineClassifier(768, 256, 1)\n",
    "loss_fn = nn.BCEWithLogitsLoss()  # Binary Cross Entropy for [0,1] output\n",
    "optimiser = optim.Adam(model.parameters(), lr=0.05)\n",
    "scheduler = optim.lr_scheduler.ExponentialLR(optimiser, gamma=0.95)\n",
    "trainer = Trainer(model, loss_fn, optimiser, None, device)"
   ]
  },
  {
   "cell_type": "code",
   "execution_count": 8,
   "id": "e1f3c8a4",
   "metadata": {},
   "outputs": [
    {
     "name": "stdout",
     "output_type": "stream",
     "text": [
      "Epoch 1/100 | train_loss: 0.6959789395332336 | val_loss: 0.6931471824645996\n",
      "Epoch 2/100 | train_loss: 0.6931471824645996 | val_loss: 0.6931471824645996\n",
      "Epoch 3/100 | train_loss: 0.6931471824645996 | val_loss: 0.6931471824645996\n",
      "Epoch 4/100 | train_loss: 0.6931471824645996 | val_loss: 0.6931471824645996\n",
      "Epoch 5/100 | train_loss: 0.6931471824645996 | val_loss: 0.6931471824645996\n",
      "Epoch 6/100 | train_loss: 0.6931471824645996 | val_loss: 0.6931471824645996\n",
      "Epoch 7/100 | train_loss: 0.6931471824645996 | val_loss: 0.6931471824645996\n",
      "Epoch 8/100 | train_loss: 0.6931471824645996 | val_loss: 0.6931471824645996\n",
      "Epoch 9/100 | train_loss: 0.6931471824645996 | val_loss: 0.6931471824645996\n",
      "Epoch 10/100 | train_loss: 0.6931471824645996 | val_loss: 0.6931471824645996\n",
      "Epoch 11/100 | train_loss: 0.6931471824645996 | val_loss: 0.6931471824645996\n",
      "Epoch 12/100 | train_loss: 0.6931471824645996 | val_loss: 0.6931471824645996\n",
      "Epoch 13/100 | train_loss: 0.6931471824645996 | val_loss: 0.6931471824645996\n",
      "Epoch 14/100 | train_loss: 0.6931471824645996 | val_loss: 0.6931471824645996\n",
      "Epoch 15/100 | train_loss: 0.6931471824645996 | val_loss: 0.6931471824645996\n",
      "Epoch 16/100 | train_loss: 0.6931471824645996 | val_loss: 0.6931471824645996\n",
      "Epoch 17/100 | train_loss: 0.6931471824645996 | val_loss: 0.6931471824645996\n",
      "Epoch 18/100 | train_loss: 0.6931471824645996 | val_loss: 0.6931471824645996\n",
      "Epoch 19/100 | train_loss: 0.6931471824645996 | val_loss: 0.6931471824645996\n",
      "Epoch 20/100 | train_loss: 0.6931471824645996 | val_loss: 0.6931471824645996\n",
      "Epoch 21/100 | train_loss: 0.6931471824645996 | val_loss: 0.6931471824645996\n",
      "Epoch 22/100 | train_loss: 0.6931471824645996 | val_loss: 0.6931471824645996\n",
      "Epoch 23/100 | train_loss: 0.6931471824645996 | val_loss: 0.6931471824645996\n",
      "Epoch 24/100 | train_loss: 0.6931471824645996 | val_loss: 0.6931471824645996\n",
      "Epoch 25/100 | train_loss: 0.6931471824645996 | val_loss: 0.6931471824645996\n",
      "Epoch 26/100 | train_loss: 0.6931471824645996 | val_loss: 0.6931471824645996\n",
      "Epoch 27/100 | train_loss: 0.6931471824645996 | val_loss: 0.6931471824645996\n",
      "Epoch 28/100 | train_loss: 0.6931471824645996 | val_loss: 0.6931471824645996\n",
      "Epoch 29/100 | train_loss: 0.6931471824645996 | val_loss: 0.6931471824645996\n",
      "Epoch 30/100 | train_loss: 0.6931471824645996 | val_loss: 0.6931471824645996\n",
      "Epoch 31/100 | train_loss: 0.6931471824645996 | val_loss: 0.6931471824645996\n",
      "Epoch 32/100 | train_loss: 0.6931471824645996 | val_loss: 0.6931471824645996\n",
      "Epoch 33/100 | train_loss: 0.6931471824645996 | val_loss: 0.6931471824645996\n",
      "Epoch 34/100 | train_loss: 0.6931471824645996 | val_loss: 0.6931471824645996\n",
      "Epoch 35/100 | train_loss: 0.6931471824645996 | val_loss: 0.6931471824645996\n",
      "Epoch 36/100 | train_loss: 0.6931471824645996 | val_loss: 0.6931471824645996\n",
      "Epoch 37/100 | train_loss: 0.6931471824645996 | val_loss: 0.6931471824645996\n",
      "Epoch 38/100 | train_loss: 0.6931471824645996 | val_loss: 0.6931471824645996\n",
      "Epoch 39/100 | train_loss: 0.6931471824645996 | val_loss: 0.6931471824645996\n",
      "Epoch 40/100 | train_loss: 0.6931471824645996 | val_loss: 0.6931471824645996\n",
      "Epoch 41/100 | train_loss: 0.6931471824645996 | val_loss: 0.6931471824645996\n",
      "Epoch 42/100 | train_loss: 0.6931471824645996 | val_loss: 0.6931471824645996\n",
      "Epoch 43/100 | train_loss: 0.6931471824645996 | val_loss: 0.6931471824645996\n",
      "Epoch 44/100 | train_loss: 0.6931471824645996 | val_loss: 0.6931471824645996\n",
      "Epoch 45/100 | train_loss: 0.6931471824645996 | val_loss: 0.6931471824645996\n",
      "Epoch 46/100 | train_loss: 0.6931471824645996 | val_loss: 0.6931471824645996\n",
      "Epoch 47/100 | train_loss: 0.6931471824645996 | val_loss: 0.6931471824645996\n",
      "Epoch 48/100 | train_loss: 0.6931471824645996 | val_loss: 0.6931471824645996\n",
      "Epoch 49/100 | train_loss: 0.6931471824645996 | val_loss: 0.6931471824645996\n",
      "Epoch 50/100 | train_loss: 0.6931471824645996 | val_loss: 0.6931471824645996\n",
      "Epoch 51/100 | train_loss: 0.6931471824645996 | val_loss: 0.6931471824645996\n",
      "Epoch 52/100 | train_loss: 0.6931471824645996 | val_loss: 0.6931471824645996\n",
      "Epoch 53/100 | train_loss: 0.6931471824645996 | val_loss: 0.6931471824645996\n",
      "Epoch 54/100 | train_loss: 0.6931471824645996 | val_loss: 0.6931471824645996\n",
      "Epoch 55/100 | train_loss: 0.6931471824645996 | val_loss: 0.6931471824645996\n",
      "Epoch 56/100 | train_loss: 0.6931471824645996 | val_loss: 0.6931471824645996\n",
      "Epoch 57/100 | train_loss: 0.6931471824645996 | val_loss: 0.6931471824645996\n",
      "Epoch 58/100 | train_loss: 0.6931471824645996 | val_loss: 0.6931471824645996\n",
      "Epoch 59/100 | train_loss: 0.6931471824645996 | val_loss: 0.6931471824645996\n",
      "Epoch 60/100 | train_loss: 0.6931471824645996 | val_loss: 0.6931471824645996\n",
      "Epoch 61/100 | train_loss: 0.6931471824645996 | val_loss: 0.6931471824645996\n",
      "Epoch 62/100 | train_loss: 0.6931471824645996 | val_loss: 0.6931471824645996\n",
      "Epoch 63/100 | train_loss: 0.6931471824645996 | val_loss: 0.6931471824645996\n",
      "Epoch 64/100 | train_loss: 0.6931471824645996 | val_loss: 0.6931471824645996\n",
      "Epoch 65/100 | train_loss: 0.6931471824645996 | val_loss: 0.6931471824645996\n",
      "Epoch 66/100 | train_loss: 0.6931471824645996 | val_loss: 0.6931471824645996\n",
      "Epoch 67/100 | train_loss: 0.6931471824645996 | val_loss: 0.6931471824645996\n",
      "Epoch 68/100 | train_loss: 0.6931471824645996 | val_loss: 0.6931471824645996\n",
      "Epoch 69/100 | train_loss: 0.6931471824645996 | val_loss: 0.6931471824645996\n",
      "Epoch 70/100 | train_loss: 0.6931471824645996 | val_loss: 0.6931471824645996\n",
      "Epoch 71/100 | train_loss: 0.6931471824645996 | val_loss: 0.6931471824645996\n",
      "Epoch 72/100 | train_loss: 0.6931471824645996 | val_loss: 0.6931471824645996\n",
      "Epoch 73/100 | train_loss: 0.6931471824645996 | val_loss: 0.6931471824645996\n",
      "Epoch 74/100 | train_loss: 0.6931471824645996 | val_loss: 0.6931471824645996\n",
      "Epoch 75/100 | train_loss: 0.6931471824645996 | val_loss: 0.6931471824645996\n",
      "Epoch 76/100 | train_loss: 0.6931471824645996 | val_loss: 0.6931471824645996\n",
      "Epoch 77/100 | train_loss: 0.6931471824645996 | val_loss: 0.6931471824645996\n",
      "Epoch 78/100 | train_loss: 0.6931471824645996 | val_loss: 0.6931471824645996\n",
      "Epoch 79/100 | train_loss: 0.6931471824645996 | val_loss: 0.6931471824645996\n",
      "Epoch 80/100 | train_loss: 0.6931471824645996 | val_loss: 0.6931471824645996\n",
      "Epoch 81/100 | train_loss: 0.6931471824645996 | val_loss: 0.6931471824645996\n",
      "Epoch 82/100 | train_loss: 0.6931471824645996 | val_loss: 0.6931471824645996\n",
      "Epoch 83/100 | train_loss: 0.6931471824645996 | val_loss: 0.6931471824645996\n",
      "Epoch 84/100 | train_loss: 0.6931471824645996 | val_loss: 0.6931471824645996\n",
      "Epoch 85/100 | train_loss: 0.6931471824645996 | val_loss: 0.6931471824645996\n",
      "Epoch 86/100 | train_loss: 0.6931471824645996 | val_loss: 0.6931471824645996\n",
      "Epoch 87/100 | train_loss: 0.6931471824645996 | val_loss: 0.6931471824645996\n",
      "Epoch 88/100 | train_loss: 0.6931471824645996 | val_loss: 0.6931471824645996\n",
      "Epoch 89/100 | train_loss: 0.6931471824645996 | val_loss: 0.6931471824645996\n",
      "Epoch 90/100 | train_loss: 0.6931471824645996 | val_loss: 0.6931471824645996\n",
      "Epoch 91/100 | train_loss: 0.6931471824645996 | val_loss: 0.6931471824645996\n",
      "Epoch 92/100 | train_loss: 0.6931471824645996 | val_loss: 0.6931471824645996\n",
      "Epoch 93/100 | train_loss: 0.6931471824645996 | val_loss: 0.6931471824645996\n",
      "Epoch 94/100 | train_loss: 0.6931471824645996 | val_loss: 0.6931471824645996\n",
      "Epoch 95/100 | train_loss: 0.6931471824645996 | val_loss: 0.6931471824645996\n",
      "Epoch 96/100 | train_loss: 0.6931471824645996 | val_loss: 0.6931471824645996\n",
      "Epoch 97/100 | train_loss: 0.6931471824645996 | val_loss: 0.6931471824645996\n",
      "Epoch 98/100 | train_loss: 0.6931471824645996 | val_loss: 0.6931471824645996\n",
      "Epoch 99/100 | train_loss: 0.6931471824645996 | val_loss: 0.6931471824645996\n",
      "Epoch 100/100 | train_loss: 0.6931471824645996 | val_loss: 0.6931471824645996\n"
     ]
    }
   ],
   "source": [
    "trainer.train(\n",
    "    train_loader,\n",
    "    test_loader,\n",
    "    100,\n",
    ")"
   ]
  },
  {
   "cell_type": "code",
   "execution_count": 33,
   "id": "5820a171",
   "metadata": {},
   "outputs": [
    {
     "name": "stdout",
     "output_type": "stream",
     "text": [
      "Vectorising 1/1\n",
      "tensor([[1.7371e-13]], device='cuda:0')\n"
     ]
    }
   ],
   "source": [
    "test_X = tokenise_and_vectorise([\"Someone Unveils Self-Driving Bullet Train Connecting Beijing to London\"]).to(device)\n",
    "with torch.no_grad():\n",
    "    print(trainer.model(test_X))"
   ]
  }
 ],
 "metadata": {
  "kernelspec": {
   "display_name": "rumour-milled-py3.12",
   "language": "python",
   "name": "python3"
  },
  "language_info": {
   "codemirror_mode": {
    "name": "ipython",
    "version": 3
   },
   "file_extension": ".py",
   "mimetype": "text/x-python",
   "name": "python",
   "nbconvert_exporter": "python",
   "pygments_lexer": "ipython3",
   "version": "3.12.10"
  }
 },
 "nbformat": 4,
 "nbformat_minor": 5
}
