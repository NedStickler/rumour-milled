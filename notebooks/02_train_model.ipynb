{
 "cells": [
  {
   "cell_type": "code",
   "execution_count": 1,
   "id": "27b1b04e",
   "metadata": {},
   "outputs": [],
   "source": [
    "import sys\n",
    "import os\n",
    "\n",
    "project_root = os.path.abspath(os.path.join(os.getcwd(), '..'))\n",
    "sys.path.append(project_root)\n",
    "\n",
    "import pandas as pd\n",
    "from sklearn.feature_extraction.text import TfidfVectorizer\n",
    "from dotenv import load_dotenv\n",
    "from src.preprocessing import preprocess"
   ]
  },
  {
   "cell_type": "code",
   "execution_count": 2,
   "id": "739832d2",
   "metadata": {},
   "outputs": [],
   "source": [
    "true = pd.read_csv(\"../data/raw/True.csv\")\n",
    "fake = pd.read_csv(\"../data/raw/Fake.csv\")"
   ]
  },
  {
   "cell_type": "code",
   "execution_count": 16,
   "id": "9c54e3de",
   "metadata": {},
   "outputs": [],
   "source": [
    "true[\"clean_title\"] = true[\"title\"].apply(preprocess)\n",
    "fake[\"clean_title\"] = fake[\"title\"].apply(preprocess)\n",
    "\n",
    "true[\"fake_news\"] = False\n",
    "fake[\"fake_news\"] = False"
   ]
  }
 ],
 "metadata": {
  "kernelspec": {
   "display_name": ".venv",
   "language": "python",
   "name": "python3"
  },
  "language_info": {
   "codemirror_mode": {
    "name": "ipython",
    "version": 3
   },
   "file_extension": ".py",
   "mimetype": "text/x-python",
   "name": "python",
   "nbconvert_exporter": "python",
   "pygments_lexer": "ipython3",
   "version": "3.10.11"
  }
 },
 "nbformat": 4,
 "nbformat_minor": 5
}
