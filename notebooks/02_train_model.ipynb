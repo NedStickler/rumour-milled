{
 "cells": [
  {
   "cell_type": "code",
   "execution_count": 1,
   "id": "27b1b04e",
   "metadata": {},
   "outputs": [],
   "source": [
    "import sys\n",
    "import os\n",
    "\n",
    "project_root = os.path.abspath(os.path.join(os.getcwd(), '..'))\n",
    "sys.path.append(project_root)\n",
    "\n",
    "import pandas as pd\n",
    "from sklearn.linear_model import LogisticRegression\n",
    "from sklearn.model_selection import train_test_split\n",
    "from sklearn.metrics import classification_report\n",
    "from src.rumour_milled.train_model import train_model"
   ]
  },
  {
   "cell_type": "code",
   "execution_count": 2,
   "id": "739832d2",
   "metadata": {},
   "outputs": [],
   "source": [
    "true = pd.read_csv(\"../data/raw/True.csv\")\n",
    "fake = pd.read_csv(\"../data/raw/Fake.csv\")\n",
    "true[\"fake_news\"] = 0.\n",
    "fake[\"fake_news\"] = 1.\n",
    "combined = pd.concat([true, fake])"
   ]
  },
  {
   "cell_type": "code",
   "execution_count": 3,
   "id": "d681e746",
   "metadata": {},
   "outputs": [],
   "source": [
    "X_train, X_test, y_train, y_test = train_test_split(combined[\"title\"], combined[\"fake_news\"], test_size=0.2, random_state=42)\n",
    "logistic_regression = train_model(X_train, y_train, LogisticRegression)"
   ]
  },
  {
   "cell_type": "code",
   "execution_count": 7,
   "id": "3995ccb2",
   "metadata": {},
   "outputs": [
    {
     "name": "stdout",
     "output_type": "stream",
     "text": [
      "              precision    recall  f1-score   support\n",
      "\n",
      "         0.0       0.94      0.95      0.94      4330\n",
      "         1.0       0.95      0.94      0.95      4650\n",
      "\n",
      "    accuracy                           0.94      8980\n",
      "   macro avg       0.94      0.94      0.94      8980\n",
      "weighted avg       0.94      0.94      0.94      8980\n",
      "\n"
     ]
    }
   ],
   "source": [
    "y_pred = logistic_regression.predict(X_test)\n",
    "print(classification_report(y_test, y_pred))"
   ]
  }
 ],
 "metadata": {
  "kernelspec": {
   "display_name": ".venv",
   "language": "python",
   "name": "python3"
  },
  "language_info": {
   "codemirror_mode": {
    "name": "ipython",
    "version": 3
   },
   "file_extension": ".py",
   "mimetype": "text/x-python",
   "name": "python",
   "nbconvert_exporter": "python",
   "pygments_lexer": "ipython3",
   "version": "3.10.11"
  }
 },
 "nbformat": 4,
 "nbformat_minor": 5
}
