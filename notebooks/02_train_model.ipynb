{
 "cells": [
  {
   "cell_type": "code",
   "execution_count": null,
   "id": "27b1b04e",
   "metadata": {},
   "outputs": [],
   "source": [
    "import os\n",
    "os.chdir(\"..\")\n",
    "from sklearn.linear_model import LogisticRegression\n",
    "from sklearn.feature_extraction.text import TfidfVectorizer\n",
    "from sklearn.model_selection import train_test_split\n",
    "from sklearn.metrics import classification_report\n",
    "from rumour_milled.train_model import train_model\n",
    "from rumour_milled.load import load_data\n",
    "from storage.dynamodb import HeadlineStorage"
   ]
  },
  {
   "cell_type": "code",
   "execution_count": 17,
   "id": "c81cc299",
   "metadata": {},
   "outputs": [],
   "source": [
    "hs = HeadlineStorage()\n",
    "items = hs.get_items()"
   ]
  },
  {
   "cell_type": "code",
   "execution_count": 28,
   "id": "a015f773",
   "metadata": {},
   "outputs": [],
   "source": [
    "headlines = [headline[0] for headline in items]\n",
    "labels = [int(headline[1]) for headline in items]"
   ]
  },
  {
   "cell_type": "code",
   "execution_count": 29,
   "id": "18a85742",
   "metadata": {},
   "outputs": [
    {
     "data": {
      "text/plain": [
       "16700"
      ]
     },
     "execution_count": 29,
     "metadata": {},
     "output_type": "execute_result"
    }
   ],
   "source": [
    "len([label for label in labels if label == 0])"
   ]
  },
  {
   "cell_type": "code",
   "execution_count": 30,
   "id": "739832d2",
   "metadata": {},
   "outputs": [],
   "source": [
    "X_train, X_test, y_train, y_test = train_test_split(\n",
    "    headlines, labels, test_size=0.2, random_state=42\n",
    ")"
   ]
  },
  {
   "cell_type": "code",
   "execution_count": 31,
   "id": "d681e746",
   "metadata": {},
   "outputs": [],
   "source": [
    "logistic_regression = train_model(\n",
    "    X_train, y_train, LogisticRegression, TfidfVectorizer\n",
    ")"
   ]
  },
  {
   "cell_type": "code",
   "execution_count": 32,
   "id": "3995ccb2",
   "metadata": {},
   "outputs": [
    {
     "name": "stdout",
     "output_type": "stream",
     "text": [
      "              precision    recall  f1-score   support\n",
      "\n",
      "           0       0.95      0.99      0.97      3329\n",
      "           1       0.96      0.73      0.83       671\n",
      "\n",
      "    accuracy                           0.95      4000\n",
      "   macro avg       0.96      0.86      0.90      4000\n",
      "weighted avg       0.95      0.95      0.95      4000\n",
      "\n"
     ]
    }
   ],
   "source": [
    "y_pred = logistic_regression.predict(X_test)\n",
    "print(classification_report(y_test, y_pred))"
   ]
  }
 ],
 "metadata": {
  "kernelspec": {
   "display_name": "rumour-milled-py3.12",
   "language": "python",
   "name": "python3"
  },
  "language_info": {
   "codemirror_mode": {
    "name": "ipython",
    "version": 3
   },
   "file_extension": ".py",
   "mimetype": "text/x-python",
   "name": "python",
   "nbconvert_exporter": "python",
   "pygments_lexer": "ipython3",
   "version": "3.12.10"
  }
 },
 "nbformat": 4,
 "nbformat_minor": 5
}
