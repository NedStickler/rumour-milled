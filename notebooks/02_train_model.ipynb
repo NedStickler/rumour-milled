{
 "cells": [
  {
   "cell_type": "code",
   "execution_count": null,
   "id": "27b1b04e",
   "metadata": {},
   "outputs": [],
   "source": [
    "import sys\n",
    "import os\n",
    "\n",
    "project_root = os.path.abspath(os.path.join(os.getcwd(), '..'))\n",
    "sys.path.append(project_root)\n",
    "\n",
    "import pandas as pd\n",
    "from sklearn.feature_extraction.text import TfidfVectorizer\n",
    "from sklearn.linear_model import LogisticRegression\n",
    "from sklearn.model_selection import train_test_split\n",
    "from sklearn.metrics import classification_report, confusion_matrix\n",
    "from src.preprocessing import preprocess"
   ]
  },
  {
   "cell_type": "code",
   "execution_count": null,
   "id": "739832d2",
   "metadata": {},
   "outputs": [],
   "source": [
    "true = pd.read_csv(\"../data/raw/True.csv\").head(1000)\n",
    "fake = pd.read_csv(\"../data/raw/Fake.csv\").head(1000)"
   ]
  },
  {
   "cell_type": "code",
   "execution_count": null,
   "id": "9c54e3de",
   "metadata": {},
   "outputs": [],
   "source": [
    "true[\"clean_title\"] = true[\"title\"].apply(preprocess)\n",
    "fake[\"clean_title\"] = fake[\"title\"].apply(preprocess)\n",
    "\n",
    "true[\"fake_news\"] = 0.\n",
    "fake[\"fake_news\"] = 1.\n",
    "\n",
    "combined = pd.concat([true, fake])"
   ]
  },
  {
   "cell_type": "code",
   "execution_count": null,
   "id": "d681e746",
   "metadata": {},
   "outputs": [],
   "source": [
    "vectoriser = TfidfVectorizer()\n",
    "X_tfidf = vectoriser.fit_transform(combined[\"clean_title\"])\n",
    "X_train, X_test, y_train, y_test = train_test_split(X_tfidf, combined[\"fake_news\"], test_size=0.2, random_state=42)"
   ]
  },
  {
   "cell_type": "code",
   "execution_count": null,
   "id": "ed0b111d",
   "metadata": {},
   "outputs": [],
   "source": [
    "logistic_regression = LogisticRegression()\n",
    "logistic_regression.fit(X_train, y_train)"
   ]
  },
  {
   "cell_type": "code",
   "execution_count": null,
   "id": "0b310549",
   "metadata": {},
   "outputs": [],
   "source": [
    "y_pred = logistic_regression.predict(X_test)\n",
    "print(classification_report(y_test, y_pred))"
   ]
  }
 ],
 "metadata": {
  "kernelspec": {
   "display_name": ".venv",
   "language": "python",
   "name": "python3"
  },
  "language_info": {
   "codemirror_mode": {
    "name": "ipython",
    "version": 3
   },
   "file_extension": ".py",
   "mimetype": "text/x-python",
   "name": "python",
   "nbconvert_exporter": "python",
   "pygments_lexer": "ipython3",
   "version": "3.10.11"
  }
 },
 "nbformat": 4,
 "nbformat_minor": 5
}
