{
 "cells": [
  {
   "cell_type": "code",
   "execution_count": 1,
   "id": "ebdfed0d",
   "metadata": {},
   "outputs": [],
   "source": [
    "import os\n",
    "os.chdir(\"..\")"
   ]
  },
  {
   "cell_type": "code",
   "execution_count": 2,
   "id": "b05ae06f",
   "metadata": {},
   "outputs": [],
   "source": [
    "from rumour_milled.load import load_model, load_data\n",
    "from sklearn.model_selection import train_test_split\n",
    "from sklearn.metrics import accuracy_score"
   ]
  },
  {
   "cell_type": "code",
   "execution_count": 3,
   "id": "269e0cbd",
   "metadata": {},
   "outputs": [],
   "source": [
    "data = load_data()\n",
    "X_train, X_test, y_train, y_test = train_test_split(data[\"title\"], data[\"fake_news\"], test_size=0.2, random_state=42)"
   ]
  },
  {
   "cell_type": "code",
   "execution_count": 9,
   "id": "b53fbe3a",
   "metadata": {},
   "outputs": [],
   "source": [
    "models = [\"logisticregression\", \"randomforestclassifier\", \"gradientboostingclassifier\", \"xgbclassifier\"]\n",
    "encoders = [\"tfidfvectorizer\", \"sentencetransformervectoriser\"]\n",
    "\n",
    "accuracies = {}\n",
    "for model in models:\n",
    "    for encoder in encoders:\n",
    "        loaded_model = load_model(model, encoder)\n",
    "        y_pred = loaded_model.predict(X_test)\n",
    "        accuracies[f\"{model}_{encoder}\"] = accuracy_score(y_test, y_pred)\n",
    "sorted_accuracies = sorted(accuracies.items(), reverse=True, key=lambda x: x[1])"
   ]
  },
  {
   "cell_type": "code",
   "execution_count": 10,
   "id": "2e5a29bc",
   "metadata": {},
   "outputs": [
    {
     "data": {
      "text/plain": [
       "[('logisticregression_tfidfvectorizer', 0.944543429844098),\n",
       " ('randomforestclassifier_tfidfvectorizer', 0.9418708240534521),\n",
       " ('xgbclassifier_sentencetransformervectoriser', 0.9319599109131403),\n",
       " ('randomforestclassifier_sentencetransformervectoriser', 0.9206013363028953),\n",
       " ('logisticregression_sentencetransformervectoriser', 0.9153674832962138),\n",
       " ('xgbclassifier_tfidfvectorizer', 0.9083518930957684),\n",
       " ('gradientboostingclassifier_sentencetransformervectoriser',\n",
       "  0.8919821826280624),\n",
       " ('gradientboostingclassifier_tfidfvectorizer', 0.8469933184855234)]"
      ]
     },
     "execution_count": 10,
     "metadata": {},
     "output_type": "execute_result"
    }
   ],
   "source": [
    "sorted_accuracies"
   ]
  }
 ],
 "metadata": {
  "kernelspec": {
   "display_name": "rumour-milled-py3.12",
   "language": "python",
   "name": "python3"
  },
  "language_info": {
   "codemirror_mode": {
    "name": "ipython",
    "version": 3
   },
   "file_extension": ".py",
   "mimetype": "text/x-python",
   "name": "python",
   "nbconvert_exporter": "python",
   "pygments_lexer": "ipython3",
   "version": "3.12.10"
  }
 },
 "nbformat": 4,
 "nbformat_minor": 5
}
